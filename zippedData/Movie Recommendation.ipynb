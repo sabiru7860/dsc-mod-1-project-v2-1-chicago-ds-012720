{
 "cells": [
  {
   "cell_type": "code",
   "execution_count": null,
   "metadata": {},
   "outputs": [],
   "source": []
  },
  {
   "cell_type": "code",
   "execution_count": null,
   "metadata": {},
   "outputs": [],
   "source": []
  },
  {
   "cell_type": "markdown",
   "metadata": {},
   "source": [
    "# Intro\n",
    "First I imported my data and libararies used in this project"
   ]
  },
  {
   "cell_type": "code",
   "execution_count": 1,
   "metadata": {},
   "outputs": [],
   "source": [
    "import pandas as pd\n",
    "import numpy as np\n",
    "import seaborn as sns\n",
    "import matplotlib.pyplot as plt"
   ]
  },
  {
   "cell_type": "code",
   "execution_count": null,
   "metadata": {},
   "outputs": [],
   "source": [
    "Movie_Reviews_RT=pd.read_csv('rt.reviews.tsv',delimiter='\\t',encoding='latin')"
   ]
  },
  {
   "cell_type": "code",
   "execution_count": null,
   "metadata": {},
   "outputs": [],
   "source": [
    "Movie_Reviews_RT.set_index('id' ,inplace=True)"
   ]
  },
  {
   "cell_type": "code",
   "execution_count": null,
   "metadata": {},
   "outputs": [],
   "source": [
    "Movie_Info_RT=pd.read_csv('rt.movie_info.tsv', delimiter= '\\t',encoding='latin')"
   ]
  },
  {
   "cell_type": "markdown",
   "metadata": {},
   "source": [
    "# Data Cleaning\n",
    "During this part i cleaned up my data sets and merged data sets that fit my analysis\n",
    "I joined my two Rotten Tomatoes datasets together on id. This allowed me to see how people interpreted the movies based on the fresh rating on Rotten Tomatoes"
   ]
  },
  {
   "cell_type": "code",
   "execution_count": 2,
   "metadata": {},
   "outputs": [
    {
     "ename": "NameError",
     "evalue": "name 'Movie_Info_RT' is not defined",
     "output_type": "error",
     "traceback": [
      "\u001b[0;31m---------------------------------------------------------------------------\u001b[0m",
      "\u001b[0;31mNameError\u001b[0m                                 Traceback (most recent call last)",
      "\u001b[0;32m<ipython-input-2-d0b354b6a335>\u001b[0m in \u001b[0;36m<module>\u001b[0;34m\u001b[0m\n\u001b[0;32m----> 1\u001b[0;31m \u001b[0mRT_Info_Reviews\u001b[0m \u001b[0;34m=\u001b[0m \u001b[0mMovie_Info_RT\u001b[0m\u001b[0;34m.\u001b[0m\u001b[0mjoin\u001b[0m\u001b[0;34m(\u001b[0m\u001b[0mMovie_Reviews_RT\u001b[0m\u001b[0;34m,\u001b[0m \u001b[0mon\u001b[0m\u001b[0;34m=\u001b[0m\u001b[0;34m'id'\u001b[0m \u001b[0;34m,\u001b[0m\u001b[0mhow\u001b[0m\u001b[0;34m=\u001b[0m\u001b[0;34m'inner'\u001b[0m\u001b[0;34m,\u001b[0m\u001b[0mlsuffix\u001b[0m\u001b[0;34m=\u001b[0m\u001b[0;34m'_left'\u001b[0m\u001b[0;34m,\u001b[0m \u001b[0mrsuffix\u001b[0m\u001b[0;34m=\u001b[0m\u001b[0;34m'_right'\u001b[0m\u001b[0;34m)\u001b[0m\u001b[0;34m\u001b[0m\u001b[0;34m\u001b[0m\u001b[0m\n\u001b[0m",
      "\u001b[0;31mNameError\u001b[0m: name 'Movie_Info_RT' is not defined"
     ]
    }
   ],
   "source": [
    "RT_Info_Reviews = Movie_Info_RT.join(Movie_Reviews_RT, on='id' ,how='inner',lsuffix='_left', rsuffix='_right')"
   ]
  },
  {
   "cell_type": "markdown",
   "metadata": {},
   "source": [
    "As you can see for our fresh columns everything was in a string 'Fresh or 'Rotten'. I decided to convert the ratings into bianary numbers so that i could compare it with other movie components. "
   ]
  },
  {
   "cell_type": "code",
   "execution_count": null,
   "metadata": {},
   "outputs": [],
   "source": [
    "RT_Info_Reviews.loc[:,'fresh']"
   ]
  },
  {
   "cell_type": "code",
   "execution_count": null,
   "metadata": {},
   "outputs": [],
   "source": [
    "def rotten(rating):\n",
    "    if rating== 'rotten':\n",
    "        return 1\n",
    "    else:\n",
    "        return 0"
   ]
  },
  {
   "cell_type": "code",
   "execution_count": null,
   "metadata": {},
   "outputs": [],
   "source": [
    "RT_Info_Reviews['fresh']=RT_Info_Reviews['fresh'].apply(rotten)"
   ]
  },
  {
   "cell_type": "code",
   "execution_count": null,
   "metadata": {},
   "outputs": [],
   "source": [
    "RT_Rotten=RT_Info_Reviews[RT_Info_Reviews['fresh']==1]"
   ]
  },
  {
   "cell_type": "code",
   "execution_count": null,
   "metadata": {},
   "outputs": [],
   "source": [
    "RT_Fresh=RT_Info_Reviews[RT_Info_Reviews['fresh']==0]"
   ]
  },
  {
   "cell_type": "markdown",
   "metadata": {},
   "source": []
  },
  {
   "cell_type": "code",
   "execution_count": null,
   "metadata": {},
   "outputs": [],
   "source": [
    "for idx, row in RT_Info_Reviews.iterrows():\n",
    "    if type(row.runtime) == str:\n",
    "        continue\n",
    "    else:\n",
    "        print(idx, type(row.runtime))\n",
    "        break"
   ]
  },
  {
   "cell_type": "code",
   "execution_count": null,
   "metadata": {},
   "outputs": [],
   "source": [
    "RT_Info_Reviews.dropna(subset=['runtime'] ,inplace=True)"
   ]
  },
  {
   "cell_type": "code",
   "execution_count": null,
   "metadata": {},
   "outputs": [],
   "source": [
    "RT_Info_Reviews.dropna(subset=['genre'],inplace=True)"
   ]
  },
  {
   "cell_type": "code",
   "execution_count": null,
   "metadata": {},
   "outputs": [],
   "source": [
    "RT_Info_Reviews.dropna(subset=['rating_left'],inplace=True)"
   ]
  },
  {
   "cell_type": "code",
   "execution_count": null,
   "metadata": {},
   "outputs": [],
   "source": [
    "RT_Info_Reviews.dropna(subset=['director'],inplace=True)"
   ]
  },
  {
   "cell_type": "code",
   "execution_count": null,
   "metadata": {},
   "outputs": [],
   "source": [
    "RT_Info_Reviews['runtime']=RT_Info_Reviews['runtime'].astype(int)"
   ]
  },
  {
   "cell_type": "markdown",
   "metadata": {},
   "source": [
    "# Plotting \n",
    "once i finished cleaning i found relationships between fresh ratings and the genre,runtime,director,the age ratings"
   ]
  },
  {
   "cell_type": "code",
   "execution_count": null,
   "metadata": {},
   "outputs": [],
   "source": [
    "plt.xticks(rotation=45)\n",
    "plt.title('Genres that got ',fontsize=20)\n",
    "plt.ylabel('Amount of Rotten Reviews')\n",
    "plt.bar(RT_Rotten['genre'].value_counts().head().index,RT_Rotten['genre'].value_counts().head().values,color='green')"
   ]
  },
  {
   "cell_type": "code",
   "execution_count": null,
   "metadata": {},
   "outputs": [],
   "source": [
    "lt.figure(figsize=(15,10))\n",
    "\n",
    "plt.xlabel('Type of Genre',fontsize=20)\n",
    "plt.ylabel('Number of \"Fresh\" on RT',fontsize=20)\n",
    "plt.xticks(rotation=45,fontsize=15)\n",
    "\n",
    "plt.yticks(fontsize=15)\n",
    "plt.title('Relationship between Genres and Fresh' ,fontsize=20)\n",
    "plt.bar(RT_Fresh['genre'].value_counts().head().index,RT_Fresh['genre'].value_counts().head().values,color='red',Label='Fresh')\n",
    "plt.show()"
   ]
  },
  {
   "cell_type": "code",
   "execution_count": null,
   "metadata": {},
   "outputs": [],
   "source": [
    "plt.figure(figsize=(10,10))\n",
    "plt.ylabel('Fresh Ratings',fontsize=20)\n",
    "plt.title('Director relationship With Fresh Ratings',fontsize=20)\n",
    "plt.xlabel('Director Names',fontsize=20)\n",
    "plt.xticks(fontsize=15,rotation=(45))\n",
    "plt.yticks(fontsize=15)\n",
    "plt.bar(RT_Fresh['director'].value_counts().head().index, RT_Fresh['director'].value_counts().head().values, color='red');"
   ]
  },
  {
   "cell_type": "code",
   "execution_count": null,
   "metadata": {},
   "outputs": [],
   "source": [
    "plt.figure(figsize=(10,10))\n",
    "plt.ylabel('Fresh Ratings',fontsize=20)\n",
    "plt.title('Age Restriction Ratings Relationship With Fresh Ratings',fontsize=20)\n",
    "plt.xlabel('Age Restriction Ratings',fontsize=20)\n",
    "plt.xticks(fontsize=15,rotation=(45))\n",
    "plt.yticks(fontsize=15)\n",
    "plt.bar(RT_Fresh['rating_left'].value_counts().head().index, RT_Fresh['rating_left'].value_counts().head().values, color='red')"
   ]
  }
 ],
 "metadata": {
  "kernelspec": {
   "display_name": "Python 3",
   "language": "python",
   "name": "python3"
  },
  "language_info": {
   "codemirror_mode": {
    "name": "ipython",
    "version": 3
   },
   "file_extension": ".py",
   "mimetype": "text/x-python",
   "name": "python",
   "nbconvert_exporter": "python",
   "pygments_lexer": "ipython3",
   "version": "3.7.4"
  }
 },
 "nbformat": 4,
 "nbformat_minor": 4
}
